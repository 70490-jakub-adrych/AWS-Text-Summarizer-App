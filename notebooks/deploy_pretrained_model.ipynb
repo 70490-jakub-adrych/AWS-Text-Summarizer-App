{
 "cells": [
  {
   "cell_type": "markdown",
   "id": "3225be01",
   "metadata": {},
   "source": [
    "# Deploy Pre-trained Summarization Model to SageMaker\n",
    "\n",
    "This notebook deploys a pre-trained BART model to SageMaker for text summarization."
   ]
  },
  {
   "cell_type": "code",
   "execution_count": null,
   "id": "6b3426ef",
   "metadata": {},
   "outputs": [
    {
     "name": "stdout",
     "output_type": "stream",
     "text": [
      "Deleted existing endpoint configuration: huggingface-pytorch-inference-2025-05-08-18-46-16-895\n"
     ]
    },
    {
     "data": {
      "text/html": [
       "<pre style=\"white-space:pre;overflow-x:auto;line-height:normal;font-family:Menlo,'DejaVu Sans Mono',consolas,'Courier New',monospace\"><span style=\"color: #7fbfbf; text-decoration-color: #7fbfbf\">[05/08/25 20:56:35] </span><span style=\"color: #0069ff; text-decoration-color: #0069ff; font-weight: bold\">INFO    </span> Creating model with name:                                              <a href=\"file:///opt/conda/lib/python3.12/site-packages/sagemaker/session.py\" target=\"_blank\"><span style=\"color: #7f7f7f; text-decoration-color: #7f7f7f\">session.py</span></a><span style=\"color: #7f7f7f; text-decoration-color: #7f7f7f\">:</span><a href=\"file:///opt/conda/lib/python3.12/site-packages/sagemaker/session.py#4094\" target=\"_blank\"><span style=\"color: #7f7f7f; text-decoration-color: #7f7f7f\">4094</span></a>\n",
       "<span style=\"color: #7fbfbf; text-decoration-color: #7fbfbf\">                    </span>         huggingface-pytorch-inference-<span style=\"color: #008080; text-decoration-color: #008080; font-weight: bold\">2025</span>-05-08-20-56-35-732                  <span style=\"color: #7f7f7f; text-decoration-color: #7f7f7f\">               </span>\n",
       "</pre>\n"
      ],
      "text/plain": [
       "\u001b[2;36m[05/08/25 20:56:35]\u001b[0m\u001b[2;36m \u001b[0m\u001b[1;38;2;0;105;255mINFO    \u001b[0m Creating model with name:                                              \u001b]8;id=238494;file:///opt/conda/lib/python3.12/site-packages/sagemaker/session.py\u001b\\\u001b[2msession.py\u001b[0m\u001b]8;;\u001b\\\u001b[2m:\u001b[0m\u001b]8;id=30501;file:///opt/conda/lib/python3.12/site-packages/sagemaker/session.py#4094\u001b\\\u001b[2m4094\u001b[0m\u001b]8;;\u001b\\\n",
       "\u001b[2;36m                    \u001b[0m         huggingface-pytorch-inference-\u001b[1;36m2025\u001b[0m-05-08-20-56-35-732                  \u001b[2m               \u001b[0m\n"
      ]
     },
     "metadata": {},
     "output_type": "display_data"
    },
    {
     "data": {
      "text/html": [
       "<pre style=\"white-space:pre;overflow-x:auto;line-height:normal;font-family:Menlo,'DejaVu Sans Mono',consolas,'Courier New',monospace\"><span style=\"color: #7fbfbf; text-decoration-color: #7fbfbf\">[05/08/25 20:56:36] </span><span style=\"color: #0069ff; text-decoration-color: #0069ff; font-weight: bold\">INFO    </span> Creating endpoint-config with name                                     <a href=\"file:///opt/conda/lib/python3.12/site-packages/sagemaker/session.py\" target=\"_blank\"><span style=\"color: #7f7f7f; text-decoration-color: #7f7f7f\">session.py</span></a><span style=\"color: #7f7f7f; text-decoration-color: #7f7f7f\">:</span><a href=\"file:///opt/conda/lib/python3.12/site-packages/sagemaker/session.py#5937\" target=\"_blank\"><span style=\"color: #7f7f7f; text-decoration-color: #7f7f7f\">5937</span></a>\n",
       "<span style=\"color: #7fbfbf; text-decoration-color: #7fbfbf\">                    </span>         huggingface-pytorch-inference-<span style=\"color: #008080; text-decoration-color: #008080; font-weight: bold\">2025</span>-05-08-18-46-16-895                  <span style=\"color: #7f7f7f; text-decoration-color: #7f7f7f\">               </span>\n",
       "</pre>\n"
      ],
      "text/plain": [
       "\u001b[2;36m[05/08/25 20:56:36]\u001b[0m\u001b[2;36m \u001b[0m\u001b[1;38;2;0;105;255mINFO    \u001b[0m Creating endpoint-config with name                                     \u001b]8;id=774925;file:///opt/conda/lib/python3.12/site-packages/sagemaker/session.py\u001b\\\u001b[2msession.py\u001b[0m\u001b]8;;\u001b\\\u001b[2m:\u001b[0m\u001b]8;id=84894;file:///opt/conda/lib/python3.12/site-packages/sagemaker/session.py#5937\u001b\\\u001b[2m5937\u001b[0m\u001b]8;;\u001b\\\n",
       "\u001b[2;36m                    \u001b[0m         huggingface-pytorch-inference-\u001b[1;36m2025\u001b[0m-05-08-18-46-16-895                  \u001b[2m               \u001b[0m\n"
      ]
     },
     "metadata": {},
     "output_type": "display_data"
    },
    {
     "data": {
      "text/html": [
       "<pre style=\"white-space:pre;overflow-x:auto;line-height:normal;font-family:Menlo,'DejaVu Sans Mono',consolas,'Courier New',monospace\"><span style=\"color: #7fbfbf; text-decoration-color: #7fbfbf\">                    </span><span style=\"color: #0069ff; text-decoration-color: #0069ff; font-weight: bold\">INFO    </span> Creating endpoint with name                                            <a href=\"file:///opt/conda/lib/python3.12/site-packages/sagemaker/session.py\" target=\"_blank\"><span style=\"color: #7f7f7f; text-decoration-color: #7f7f7f\">session.py</span></a><span style=\"color: #7f7f7f; text-decoration-color: #7f7f7f\">:</span><a href=\"file:///opt/conda/lib/python3.12/site-packages/sagemaker/session.py#4759\" target=\"_blank\"><span style=\"color: #7f7f7f; text-decoration-color: #7f7f7f\">4759</span></a>\n",
       "<span style=\"color: #7fbfbf; text-decoration-color: #7fbfbf\">                    </span>         huggingface-pytorch-inference-<span style=\"color: #008080; text-decoration-color: #008080; font-weight: bold\">2025</span>-05-08-18-46-16-895                  <span style=\"color: #7f7f7f; text-decoration-color: #7f7f7f\">               </span>\n",
       "</pre>\n"
      ],
      "text/plain": [
       "\u001b[2;36m                   \u001b[0m\u001b[2;36m \u001b[0m\u001b[1;38;2;0;105;255mINFO    \u001b[0m Creating endpoint with name                                            \u001b]8;id=383067;file:///opt/conda/lib/python3.12/site-packages/sagemaker/session.py\u001b\\\u001b[2msession.py\u001b[0m\u001b]8;;\u001b\\\u001b[2m:\u001b[0m\u001b]8;id=637339;file:///opt/conda/lib/python3.12/site-packages/sagemaker/session.py#4759\u001b\\\u001b[2m4759\u001b[0m\u001b]8;;\u001b\\\n",
       "\u001b[2;36m                    \u001b[0m         huggingface-pytorch-inference-\u001b[1;36m2025\u001b[0m-05-08-18-46-16-895                  \u001b[2m               \u001b[0m\n"
      ]
     },
     "metadata": {},
     "output_type": "display_data"
    }
   ],
   "source": [
    "import boto3\n",
    "from sagemaker.huggingface import HuggingFaceModel\n",
    "from sagemaker import get_execution_role\n",
    "\n",
    "# Get execution role\n",
    "role = get_execution_role()\n",
    "hub = {\n",
    "  'HF_MODEL_ID': 'sshleifer/distilbart-cnn-6-6',\n",
    "  'HF_TASK':     'summarization'\n",
    "}\n",
    "\n",
    "# First delete the existing endpoint configuration\n",
    "sm_client = boto3.client('sagemaker')\n",
    "endpoint_name = \"huggingface-pytorch-inference-2025-05-08-18-46-16-895\"\n",
    "try:\n",
    "    sm_client.delete_endpoint_config(EndpointConfigName=endpoint_name)\n",
    "    print(f\"Deleted existing endpoint configuration: {endpoint_name}\")\n",
    "except Exception as e:\n",
    "    print(f\"No existing endpoint configuration found or error: {e}\")\n",
    "\n",
    "# Create the model\n",
    "huggingface_model = HuggingFaceModel(\n",
    "    transformers_version='4.26',  # or newer\n",
    "    pytorch_version='1.13',       # or newer\n",
    "    py_version='py39',\n",
    "    env=hub,\n",
    "    role=role\n",
    ")\n",
    "\n",
    "# Deploy with the fixed endpoint name\n",
    "predictor = huggingface_model.deploy(\n",
    "    initial_instance_count=1, \n",
    "    instance_type=\"ml.m5.xlarge\",\n",
    "    endpoint_name=endpoint_name\n",
    ")"
   ]
  },
  {
   "cell_type": "markdown",
   "id": "9b83043e",
   "metadata": {},
   "source": [
    "## Test the Endpoint\n",
    "\n",
    "Let's test our deployed model with a simple text sample."
   ]
  },
  {
   "cell_type": "code",
   "execution_count": 10,
   "id": "1ea8fc6f",
   "metadata": {},
   "outputs": [
    {
     "name": "stdout",
     "output_type": "stream",
     "text": [
      "[{'summary_text': ' The Roleplaying Game is endless. You could explore the horrifying and puzzling experiments of Vault-Tec . Find yourself up against the illusive and dangerous Institute who create synth replicas while hiding beneath the ruins . Or perhaps you are just a group of wanderers, searching for your place in the wasteland .'}]\n"
     ]
    }
   ],
   "source": [
    "import json, boto3\n",
    "\n",
    "client = boto3.client('sagemaker-runtime')\n",
    "response = client.invoke_endpoint(\n",
    "    EndpointName='huggingface-pytorch-inference-2025-05-08-18-46-16-895',\n",
    "    Body=json.dumps({\"inputs\": \"The Roleplaying Game is endless. You could explore the horrifying and puzzling experiments of Vault-Tec; become mercenaries, protecting or preying on trade caravans and settlements; trying to make it to the big time with enough caps to live in the post-apocalyptic equivalent of luxury. Find yourself up against the illusive and dangerous Institute who create synth replicas while hiding beneath the ruins or meet with the mighty Brotherhood of Steel and their advanced technology. Or perhaps you are just a group of wanderers, searching for your place in the wasteland and trying to rebuild humanity.\"}),\n",
    "    ContentType='application/json'\n",
    ")\n",
    "result = json.loads(response['Body'].read())\n",
    "print(result)\n",
    "# Example output: [{\"summary_text\": \"Your summarized text...\"}]\n"
   ]
  },
  {
   "cell_type": "code",
   "execution_count": null,
   "id": "a3a3f463-b1dd-4370-96c3-c511afd20405",
   "metadata": {},
   "outputs": [],
   "source": []
  }
 ],
 "metadata": {
  "kernelspec": {
   "display_name": "Python 3 (ipykernel)",
   "language": "python",
   "name": "python3"
  },
  "language_info": {
   "codemirror_mode": {
    "name": "ipython",
    "version": 3
   },
   "file_extension": ".py",
   "mimetype": "text/x-python",
   "name": "python",
   "nbconvert_exporter": "python",
   "pygments_lexer": "ipython3",
   "version": "3.12.9"
  }
 },
 "nbformat": 4,
 "nbformat_minor": 5
}
